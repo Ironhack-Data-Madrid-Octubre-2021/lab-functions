{
 "cells": [
  {
   "cell_type": "markdown",
   "metadata": {},
   "source": [
    "# Functions"
   ]
  },
  {
   "cell_type": "markdown",
   "metadata": {},
   "source": [
    "On this lab we will put to practice some of the concepts we have learned on this past few days.\n",
    "\n",
    "`NOTE: On this lab you should try to write all the functions yourself using only the most basic of python syntax and without functions such as len, count, sum, max, min, in, etc. Give it a try. 🧑🏻‍💻👩🏻‍💻`\n",
    "\n",
    "The cell after each exercise contains a few tests to check if your function works as expected."
   ]
  },
  {
   "cell_type": "code",
   "execution_count": 1,
   "metadata": {},
   "outputs": [],
   "source": [
    "from mod.testing import *\n",
    "import unittest"
   ]
  },
  {
   "cell_type": "markdown",
   "metadata": {},
   "source": [
    "## 1. Write a function that returns the greater of two numbers"
   ]
  },
  {
   "cell_type": "code",
   "execution_count": 2,
   "metadata": {},
   "outputs": [],
   "source": [
    "def greater(a,b):\n",
    "    if a > b:\n",
    "        return a\n",
    "    else:\n",
    "        return b"
   ]
  },
  {
   "cell_type": "code",
   "execution_count": 3,
   "metadata": {},
   "outputs": [
    {
     "name": "stderr",
     "output_type": "stream",
     "text": [
      "....................................................................................................\n",
      "----------------------------------------------------------------------\n",
      "Ran 100 tests in 0.284s\n",
      "\n",
      "OK\n"
     ]
    }
   ],
   "source": [
    "# This will test your function \n",
    "test_greater(greater)"
   ]
  },
  {
   "cell_type": "markdown",
   "metadata": {},
   "source": [
    "## 2. Now write a function that returns the largest element on a list"
   ]
  },
  {
   "cell_type": "code",
   "execution_count": 4,
   "metadata": {},
   "outputs": [],
   "source": [
    "def greatest(arr):\n",
    "    largest = 0\n",
    "    for i in arr:\n",
    "        if i > largest:\n",
    "            largest = i   \n",
    "    return largest"
   ]
  },
  {
   "cell_type": "code",
   "execution_count": 5,
   "metadata": {},
   "outputs": [
    {
     "name": "stderr",
     "output_type": "stream",
     "text": [
      "....................................................................................................\n",
      "----------------------------------------------------------------------\n",
      "Ran 100 tests in 0.120s\n",
      "\n",
      "OK\n"
     ]
    }
   ],
   "source": [
    "# This will test your function \n",
    "test_greatest(greatest)"
   ]
  },
  {
   "cell_type": "markdown",
   "metadata": {},
   "source": [
    "## 3. Write a function that sums all the elements on a list"
   ]
  },
  {
   "cell_type": "code",
   "execution_count": 6,
   "metadata": {},
   "outputs": [],
   "source": [
    "def sum_all(arr):\n",
    "    suma = 0\n",
    "    for i in arr:\n",
    "        suma += i\n",
    "    return suma"
   ]
  },
  {
   "cell_type": "code",
   "execution_count": 7,
   "metadata": {},
   "outputs": [
    {
     "name": "stderr",
     "output_type": "stream",
     "text": [
      "....................................................................................................\n",
      "----------------------------------------------------------------------\n",
      "Ran 100 tests in 0.224s\n",
      "\n",
      "OK\n"
     ]
    }
   ],
   "source": [
    "# This will test your function \n",
    "test_sum(sum_all)"
   ]
  },
  {
   "cell_type": "markdown",
   "metadata": {},
   "source": [
    "## 4. Write another function that multiplies all the elements on a list"
   ]
  },
  {
   "cell_type": "code",
   "execution_count": 8,
   "metadata": {},
   "outputs": [],
   "source": [
    "def mult_all(arr):\n",
    "    multiplicacion = 1\n",
    "    for i in arr:\n",
    "        multiplicacion *=i\n",
    "    return multiplicacion"
   ]
  },
  {
   "cell_type": "code",
   "execution_count": 9,
   "metadata": {},
   "outputs": [
    {
     "name": "stderr",
     "output_type": "stream",
     "text": [
      "....................................................................................................\n",
      "----------------------------------------------------------------------\n",
      "Ran 100 tests in 0.247s\n",
      "\n",
      "OK\n"
     ]
    }
   ],
   "source": [
    "# This will test your function \n",
    "test_mult(mult_all)"
   ]
  },
  {
   "cell_type": "markdown",
   "metadata": {},
   "source": [
    "## 5. Now combine those two ideas and write a function that receives a list and either \"+\" or \"*\" and outputs acordingly"
   ]
  },
  {
   "cell_type": "code",
   "execution_count": 12,
   "metadata": {},
   "outputs": [],
   "source": [
    "def oper_all(arr, oper):\n",
    "    suma = 0\n",
    "    multiplicacion = 1\n",
    "    if oper == \"+\":\n",
    "        for i in arr:\n",
    "            suma += i\n",
    "        return suma\n",
    "    elif oper == \"*\":\n",
    "        for i in arr:\n",
    "            multiplicacion *=i\n",
    "        return multiplicacion"
   ]
  },
  {
   "cell_type": "code",
   "execution_count": 13,
   "metadata": {},
   "outputs": [
    {
     "name": "stderr",
     "output_type": "stream",
     "text": [
      "....................................................................................................\n",
      "----------------------------------------------------------------------\n",
      "Ran 100 tests in 0.270s\n",
      "\n",
      "OK\n"
     ]
    }
   ],
   "source": [
    "# This will test your function \n",
    "test_operations(oper_all)"
   ]
  },
  {
   "cell_type": "markdown",
   "metadata": {},
   "source": [
    "## 6. Write a function that returns the factorial of a number."
   ]
  },
  {
   "cell_type": "code",
   "execution_count": 14,
   "metadata": {},
   "outputs": [],
   "source": [
    "def factorial(n):\n",
    "    if n ==0:\n",
    "        return 1\n",
    "    return n * factorial(n-1)"
   ]
  },
  {
   "cell_type": "code",
   "execution_count": 15,
   "metadata": {},
   "outputs": [
    {
     "name": "stderr",
     "output_type": "stream",
     "text": [
      "....................................................................................................\n",
      "----------------------------------------------------------------------\n",
      "Ran 100 tests in 0.123s\n",
      "\n",
      "OK\n"
     ]
    }
   ],
   "source": [
    "# This will test your function \n",
    "test_factorial(factorial)"
   ]
  },
  {
   "cell_type": "markdown",
   "metadata": {},
   "source": [
    "## 7. Write a function that takes a list and returns a list of the unique values.\n",
    "\n",
    "`NOTE: You cannot use set. 🤔`"
   ]
  },
  {
   "cell_type": "code",
   "execution_count": 16,
   "metadata": {},
   "outputs": [],
   "source": [
    "def unique(arr):\n",
    "    lista = []\n",
    "    for i in arr:\n",
    "        if i not in lista:\n",
    "            lista.append(i)\n",
    "    return lista"
   ]
  },
  {
   "cell_type": "code",
   "execution_count": 17,
   "metadata": {},
   "outputs": [
    {
     "name": "stderr",
     "output_type": "stream",
     "text": [
      "....................................................................................................\n",
      "----------------------------------------------------------------------\n",
      "Ran 100 tests in 0.416s\n",
      "\n",
      "OK\n"
     ]
    }
   ],
   "source": [
    "# This will test your function \n",
    "test_unique(unique)"
   ]
  },
  {
   "cell_type": "markdown",
   "metadata": {},
   "source": [
    "## 8. Write a function that returns the mode of a list, i.e.: the element that appears the most times.\n",
    "`NOTE: You should not use count... 🧐`"
   ]
  },
  {
   "cell_type": "code",
   "execution_count": 18,
   "metadata": {},
   "outputs": [],
   "source": [
    "def mode_counter(arr):\n",
    "    dicc = {}\n",
    "    count = 0\n",
    "    for i in arr:\n",
    "        if i not in dicc:\n",
    "            dicc[i] = 1\n",
    "        else:\n",
    "            dicc[i] += 1\n",
    "    for key, value in dicc.items():\n",
    "        if value > count:\n",
    "            count = value\n",
    "            mode = key\n",
    "    return mode\n",
    "\n",
    "#key es el número único que hay en arr\n",
    "#value es el número de veces que se ha repetido ese número y he sumando en el else."
   ]
  },
  {
   "cell_type": "code",
   "execution_count": 19,
   "metadata": {},
   "outputs": [
    {
     "name": "stderr",
     "output_type": "stream",
     "text": [
      "....................................................................................................\n",
      "----------------------------------------------------------------------\n",
      "Ran 100 tests in 0.183s\n",
      "\n",
      "OK\n"
     ]
    }
   ],
   "source": [
    "# This will test your function \n",
    "test_mode(mode_counter)"
   ]
  },
  {
   "cell_type": "markdown",
   "metadata": {},
   "source": [
    "## 9. Write a function that calculates the standard deviation of a list.\n",
    "`NOTE: Do not use any libraries or already built functions. 😉`"
   ]
  },
  {
   "cell_type": "code",
   "execution_count": 20,
   "metadata": {},
   "outputs": [],
   "source": [
    "from statistics import stdev\n",
    "def st_dev(arr):  \n",
    "    \n",
    "    def longitud(arr):\n",
    "        contador = 0\n",
    "        for i in arr:\n",
    "            contador +=1\n",
    "        return contador\n",
    "    \n",
    "    def variance(arr):\n",
    "        n = longitud(arr)\n",
    "        mean = sum_all(arr)/n\n",
    "        return (sum_all((i - mean) ** 2 for i in arr)) / (n - 1)\n",
    "      \n",
    "    var = variance(arr)\n",
    "    std_dev = var**0.5\n",
    "    return std_dev"
   ]
  },
  {
   "cell_type": "code",
   "execution_count": 21,
   "metadata": {},
   "outputs": [
    {
     "name": "stderr",
     "output_type": "stream",
     "text": [
      "....................................................................................................\n",
      "----------------------------------------------------------------------\n",
      "Ran 100 tests in 0.252s\n",
      "\n",
      "OK\n"
     ]
    }
   ],
   "source": [
    "# This will test your function \n",
    "test_stdev(st_dev)"
   ]
  },
  {
   "cell_type": "code",
   "execution_count": 22,
   "metadata": {},
   "outputs": [
    {
     "ename": "NameError",
     "evalue": "name 'arr' is not defined",
     "output_type": "error",
     "traceback": [
      "\u001b[0;31m---------------------------------------------------------------------------\u001b[0m",
      "\u001b[0;31mNameError\u001b[0m                                 Traceback (most recent call last)",
      "\u001b[0;32m<ipython-input-22-847e62c5f942>\u001b[0m in \u001b[0;36m<module>\u001b[0;34m\u001b[0m\n\u001b[1;32m      1\u001b[0m \u001b[0;32mwhile\u001b[0m \u001b[0;32mTrue\u001b[0m\u001b[0;34m:\u001b[0m\u001b[0;34m\u001b[0m\u001b[0;34m\u001b[0m\u001b[0m\n\u001b[1;32m      2\u001b[0m             \u001b[0;32mtry\u001b[0m\u001b[0;34m:\u001b[0m\u001b[0;34m\u001b[0m\u001b[0;34m\u001b[0m\u001b[0m\n\u001b[0;32m----> 3\u001b[0;31m                 \u001b[0marr\u001b[0m\u001b[0;34m[\u001b[0m\u001b[0mcontador\u001b[0m\u001b[0;34m]\u001b[0m\u001b[0;34m\u001b[0m\u001b[0;34m\u001b[0m\u001b[0m\n\u001b[0m\u001b[1;32m      4\u001b[0m                 \u001b[0mcontador\u001b[0m \u001b[0;34m+=\u001b[0m \u001b[0;36m1\u001b[0m\u001b[0;34m\u001b[0m\u001b[0;34m\u001b[0m\u001b[0m\n\u001b[1;32m      5\u001b[0m             \u001b[0;32mexcept\u001b[0m \u001b[0mIndexError\u001b[0m\u001b[0;34m:\u001b[0m\u001b[0;34m\u001b[0m\u001b[0;34m\u001b[0m\u001b[0m\n",
      "\u001b[0;31mNameError\u001b[0m: name 'arr' is not defined"
     ]
    }
   ],
   "source": [
    "while True:\n",
    "            try:\n",
    "                arr[contador]\n",
    "                contador += 1\n",
    "            except IndexError:\n",
    "                break"
   ]
  },
  {
   "cell_type": "markdown",
   "metadata": {},
   "source": [
    "## 10. Write a function to check if a string is a pangram, i.e.: if it contains all the letters of the alphabet at least once. Mind that the strings may contain characters that are not letters."
   ]
  },
  {
   "cell_type": "code",
   "execution_count": 23,
   "metadata": {},
   "outputs": [],
   "source": [
    "def pangram(string):\n",
    "    alphabet = \"abcdefghijklmnopqrstuvwxyz\"\n",
    "    for i in alphabet:\n",
    "        if i not in string.lower():\n",
    "            return False\n",
    "    return True\n",
    "\n",
    "# quiero que me des el i que tiene todas las letras del abcdario.\n",
    "# y que empieza por un str"
   ]
  },
  {
   "cell_type": "code",
   "execution_count": 24,
   "metadata": {},
   "outputs": [
    {
     "name": "stderr",
     "output_type": "stream",
     "text": [
      "..............................\n",
      "----------------------------------------------------------------------\n",
      "Ran 30 tests in 0.122s\n",
      "\n",
      "OK\n"
     ]
    }
   ],
   "source": [
    "# This will test your function \n",
    "test_pangram(pangram)"
   ]
  },
  {
   "cell_type": "markdown",
   "metadata": {},
   "source": [
    "## 11. Write a function that receives a string of comma separated words and returns a string of comma separated words sorted alphabetically.\n",
    "\n",
    "`NOTE: You may use sorted but not split and definitely no join! 🤪`"
   ]
  },
  {
   "cell_type": "code",
   "execution_count": 25,
   "metadata": {},
   "outputs": [],
   "source": [
    "def sort_alpha(string):\n",
    "    pass"
   ]
  },
  {
   "cell_type": "code",
   "execution_count": null,
   "metadata": {},
   "outputs": [],
   "source": [
    "# This will test your function \n",
    "test_alpha(sort_alpha)"
   ]
  },
  {
   "cell_type": "markdown",
   "metadata": {},
   "source": [
    "## 12. Write a function to check if a given password is strong (at least 8 characters, at least one lower case, at least one upper case, at least one number and at least one special character). It should output True if strong and False if not.\n",
    "`Valid special characters: # @ ! $ % & ( ) ^ * [ ] { }`"
   ]
  },
  {
   "cell_type": "code",
   "execution_count": 26,
   "metadata": {},
   "outputs": [],
   "source": [
    "def check_pass(string):\n",
    "    valid_special_characters = [\"#\",\"@\",\"!\",\"$\",\"%\",\"&\",\"( )\",\" ^ \",\" * \",\"[ ]\",\"{ }\"]\n",
    "    nums = [0,1,2,3,4,5,6,7,8,9]\n",
    "    alphabet_minus = \"abcdefghijklmnopqrstuvwxyz\"\n",
    "    alphabet_mayus = \"ABCDEFGHIJKLMNOPQRSTUVWXYZ\"\n",
    "    #at least one special character\n",
    "    for i in string:\n",
    "        if i not in valid_special_characters:\n",
    "            return False\n",
    "        return True\n",
    "    \n",
    "    #at least 8 characters\n",
    "    '''\n",
    "    def longitud(string):\n",
    "        contador = 0\n",
    "        for i in string:\n",
    "            contador +=1\n",
    "        print(contador) \n",
    "        if contador <= 8:\n",
    "            return False\n",
    "                \n",
    "    longitud(string)\n",
    "    '''\n",
    "    \n",
    "    if len(string) < 8:\n",
    "        return False\n",
    "    #at least one upper case\n",
    "    for i in string:\n",
    "        if i not in alphabet_mayus:\n",
    "            return False\n",
    "\n",
    "    #at least one lower case\n",
    "    for i in string:\n",
    "        if i not in alphabet_minus:\n",
    "            return False\n",
    "    \n",
    "    #at least one number\n",
    "    for i in string:\n",
    "        if i not in nums:\n",
    "            return False\n",
    "        return True\n",
    "    "
   ]
  },
  {
   "cell_type": "code",
   "execution_count": 27,
   "metadata": {},
   "outputs": [
    {
     "name": "stderr",
     "output_type": "stream",
     "text": [
      "FFF..FF.F...F...FFF.........F......F..F.F.F..F.......FF.F...FF.FF...F..F...F..F.F.F..F..F.F..F..F...\n",
      "======================================================================\n",
      "FAIL: runTest (mod.testing.test_pass.<locals>.TestKnown)\n",
      "----------------------------------------------------------------------\n",
      "Traceback (most recent call last):\n",
      "  File \"/Users/franciscovispo/Desktop/IRONHACK/lab-functions/mod/testing.py\", line 202, in runTest\n",
      "    self.assertEqual(fn(self.input), self.output, f\"Should be {self.output}\")\n",
      "AssertionError: False != True : Should be True\n",
      "\n",
      "======================================================================\n",
      "FAIL: runTest (mod.testing.test_pass.<locals>.TestKnown)\n",
      "----------------------------------------------------------------------\n",
      "Traceback (most recent call last):\n",
      "  File \"/Users/franciscovispo/Desktop/IRONHACK/lab-functions/mod/testing.py\", line 202, in runTest\n",
      "    self.assertEqual(fn(self.input), self.output, f\"Should be {self.output}\")\n",
      "AssertionError: False != True : Should be True\n",
      "\n",
      "======================================================================\n",
      "FAIL: runTest (mod.testing.test_pass.<locals>.TestKnown)\n",
      "----------------------------------------------------------------------\n",
      "Traceback (most recent call last):\n",
      "  File \"/Users/franciscovispo/Desktop/IRONHACK/lab-functions/mod/testing.py\", line 202, in runTest\n",
      "    self.assertEqual(fn(self.input), self.output, f\"Should be {self.output}\")\n",
      "AssertionError: True != False : Should be False\n",
      "\n",
      "======================================================================\n",
      "FAIL: runTest (mod.testing.test_pass.<locals>.TestKnown)\n",
      "----------------------------------------------------------------------\n",
      "Traceback (most recent call last):\n",
      "  File \"/Users/franciscovispo/Desktop/IRONHACK/lab-functions/mod/testing.py\", line 202, in runTest\n",
      "    self.assertEqual(fn(self.input), self.output, f\"Should be {self.output}\")\n",
      "AssertionError: False != True : Should be True\n",
      "\n",
      "======================================================================\n",
      "FAIL: runTest (mod.testing.test_pass.<locals>.TestKnown)\n",
      "----------------------------------------------------------------------\n",
      "Traceback (most recent call last):\n",
      "  File \"/Users/franciscovispo/Desktop/IRONHACK/lab-functions/mod/testing.py\", line 202, in runTest\n",
      "    self.assertEqual(fn(self.input), self.output, f\"Should be {self.output}\")\n",
      "AssertionError: False != True : Should be True\n",
      "\n",
      "======================================================================\n",
      "FAIL: runTest (mod.testing.test_pass.<locals>.TestKnown)\n",
      "----------------------------------------------------------------------\n",
      "Traceback (most recent call last):\n",
      "  File \"/Users/franciscovispo/Desktop/IRONHACK/lab-functions/mod/testing.py\", line 202, in runTest\n",
      "    self.assertEqual(fn(self.input), self.output, f\"Should be {self.output}\")\n",
      "AssertionError: False != True : Should be True\n",
      "\n",
      "======================================================================\n",
      "FAIL: runTest (mod.testing.test_pass.<locals>.TestKnown)\n",
      "----------------------------------------------------------------------\n",
      "Traceback (most recent call last):\n",
      "  File \"/Users/franciscovispo/Desktop/IRONHACK/lab-functions/mod/testing.py\", line 202, in runTest\n",
      "    self.assertEqual(fn(self.input), self.output, f\"Should be {self.output}\")\n",
      "AssertionError: False != True : Should be True\n",
      "\n",
      "======================================================================\n",
      "FAIL: runTest (mod.testing.test_pass.<locals>.TestKnown)\n",
      "----------------------------------------------------------------------\n",
      "Traceback (most recent call last):\n",
      "  File \"/Users/franciscovispo/Desktop/IRONHACK/lab-functions/mod/testing.py\", line 202, in runTest\n",
      "    self.assertEqual(fn(self.input), self.output, f\"Should be {self.output}\")\n",
      "AssertionError: False != True : Should be True\n",
      "\n",
      "======================================================================\n",
      "FAIL: runTest (mod.testing.test_pass.<locals>.TestKnown)\n",
      "----------------------------------------------------------------------\n",
      "Traceback (most recent call last):\n",
      "  File \"/Users/franciscovispo/Desktop/IRONHACK/lab-functions/mod/testing.py\", line 202, in runTest\n",
      "    self.assertEqual(fn(self.input), self.output, f\"Should be {self.output}\")\n",
      "AssertionError: False != True : Should be True\n",
      "\n",
      "======================================================================\n",
      "FAIL: runTest (mod.testing.test_pass.<locals>.TestKnown)\n",
      "----------------------------------------------------------------------\n",
      "Traceback (most recent call last):\n",
      "  File \"/Users/franciscovispo/Desktop/IRONHACK/lab-functions/mod/testing.py\", line 202, in runTest\n",
      "    self.assertEqual(fn(self.input), self.output, f\"Should be {self.output}\")\n",
      "AssertionError: False != True : Should be True\n",
      "\n",
      "======================================================================\n",
      "FAIL: runTest (mod.testing.test_pass.<locals>.TestKnown)\n",
      "----------------------------------------------------------------------\n",
      "Traceback (most recent call last):\n",
      "  File \"/Users/franciscovispo/Desktop/IRONHACK/lab-functions/mod/testing.py\", line 202, in runTest\n",
      "    self.assertEqual(fn(self.input), self.output, f\"Should be {self.output}\")\n",
      "AssertionError: True != False : Should be False\n",
      "\n",
      "======================================================================\n",
      "FAIL: runTest (mod.testing.test_pass.<locals>.TestKnown)\n",
      "----------------------------------------------------------------------\n",
      "Traceback (most recent call last):\n",
      "  File \"/Users/franciscovispo/Desktop/IRONHACK/lab-functions/mod/testing.py\", line 202, in runTest\n",
      "    self.assertEqual(fn(self.input), self.output, f\"Should be {self.output}\")\n",
      "AssertionError: False != True : Should be True\n",
      "\n",
      "======================================================================\n",
      "FAIL: runTest (mod.testing.test_pass.<locals>.TestKnown)\n",
      "----------------------------------------------------------------------\n",
      "Traceback (most recent call last):\n",
      "  File \"/Users/franciscovispo/Desktop/IRONHACK/lab-functions/mod/testing.py\", line 202, in runTest\n",
      "    self.assertEqual(fn(self.input), self.output, f\"Should be {self.output}\")\n",
      "AssertionError: False != True : Should be True\n",
      "\n",
      "======================================================================\n",
      "FAIL: runTest (mod.testing.test_pass.<locals>.TestKnown)\n",
      "----------------------------------------------------------------------\n",
      "Traceback (most recent call last):\n",
      "  File \"/Users/franciscovispo/Desktop/IRONHACK/lab-functions/mod/testing.py\", line 202, in runTest\n",
      "    self.assertEqual(fn(self.input), self.output, f\"Should be {self.output}\")\n",
      "AssertionError: False != True : Should be True\n",
      "\n",
      "======================================================================\n",
      "FAIL: runTest (mod.testing.test_pass.<locals>.TestKnown)\n",
      "----------------------------------------------------------------------\n",
      "Traceback (most recent call last):\n",
      "  File \"/Users/franciscovispo/Desktop/IRONHACK/lab-functions/mod/testing.py\", line 202, in runTest\n",
      "    self.assertEqual(fn(self.input), self.output, f\"Should be {self.output}\")\n",
      "AssertionError: False != True : Should be True\n",
      "\n",
      "======================================================================\n",
      "FAIL: runTest (mod.testing.test_pass.<locals>.TestKnown)\n",
      "----------------------------------------------------------------------\n",
      "Traceback (most recent call last):\n",
      "  File \"/Users/franciscovispo/Desktop/IRONHACK/lab-functions/mod/testing.py\", line 202, in runTest\n",
      "    self.assertEqual(fn(self.input), self.output, f\"Should be {self.output}\")\n",
      "AssertionError: False != True : Should be True\n",
      "\n",
      "======================================================================\n",
      "FAIL: runTest (mod.testing.test_pass.<locals>.TestKnown)\n",
      "----------------------------------------------------------------------\n",
      "Traceback (most recent call last):\n",
      "  File \"/Users/franciscovispo/Desktop/IRONHACK/lab-functions/mod/testing.py\", line 202, in runTest\n",
      "    self.assertEqual(fn(self.input), self.output, f\"Should be {self.output}\")\n",
      "AssertionError: False != True : Should be True\n",
      "\n",
      "======================================================================\n",
      "FAIL: runTest (mod.testing.test_pass.<locals>.TestKnown)\n",
      "----------------------------------------------------------------------\n",
      "Traceback (most recent call last):\n",
      "  File \"/Users/franciscovispo/Desktop/IRONHACK/lab-functions/mod/testing.py\", line 202, in runTest\n",
      "    self.assertEqual(fn(self.input), self.output, f\"Should be {self.output}\")\n",
      "AssertionError: False != True : Should be True\n",
      "\n",
      "======================================================================\n",
      "FAIL: runTest (mod.testing.test_pass.<locals>.TestKnown)\n",
      "----------------------------------------------------------------------\n",
      "Traceback (most recent call last):\n",
      "  File \"/Users/franciscovispo/Desktop/IRONHACK/lab-functions/mod/testing.py\", line 202, in runTest\n",
      "    self.assertEqual(fn(self.input), self.output, f\"Should be {self.output}\")\n",
      "AssertionError: False != True : Should be True\n",
      "\n",
      "======================================================================\n",
      "FAIL: runTest (mod.testing.test_pass.<locals>.TestKnown)\n",
      "----------------------------------------------------------------------\n",
      "Traceback (most recent call last):\n",
      "  File \"/Users/franciscovispo/Desktop/IRONHACK/lab-functions/mod/testing.py\", line 202, in runTest\n",
      "    self.assertEqual(fn(self.input), self.output, f\"Should be {self.output}\")\n",
      "AssertionError: False != True : Should be True\n",
      "\n",
      "======================================================================\n",
      "FAIL: runTest (mod.testing.test_pass.<locals>.TestKnown)\n",
      "----------------------------------------------------------------------\n",
      "Traceback (most recent call last):\n",
      "  File \"/Users/franciscovispo/Desktop/IRONHACK/lab-functions/mod/testing.py\", line 202, in runTest\n",
      "    self.assertEqual(fn(self.input), self.output, f\"Should be {self.output}\")\n",
      "AssertionError: False != True : Should be True\n",
      "\n",
      "======================================================================\n",
      "FAIL: runTest (mod.testing.test_pass.<locals>.TestKnown)\n",
      "----------------------------------------------------------------------\n",
      "Traceback (most recent call last):\n",
      "  File \"/Users/franciscovispo/Desktop/IRONHACK/lab-functions/mod/testing.py\", line 202, in runTest\n",
      "    self.assertEqual(fn(self.input), self.output, f\"Should be {self.output}\")\n",
      "AssertionError: True != False : Should be False\n",
      "\n",
      "======================================================================\n",
      "FAIL: runTest (mod.testing.test_pass.<locals>.TestKnown)\n",
      "----------------------------------------------------------------------\n",
      "Traceback (most recent call last):\n",
      "  File \"/Users/franciscovispo/Desktop/IRONHACK/lab-functions/mod/testing.py\", line 202, in runTest\n",
      "    self.assertEqual(fn(self.input), self.output, f\"Should be {self.output}\")\n",
      "AssertionError: False != True : Should be True\n",
      "\n",
      "======================================================================\n",
      "FAIL: runTest (mod.testing.test_pass.<locals>.TestKnown)\n",
      "----------------------------------------------------------------------\n",
      "Traceback (most recent call last):\n",
      "  File \"/Users/franciscovispo/Desktop/IRONHACK/lab-functions/mod/testing.py\", line 202, in runTest\n",
      "    self.assertEqual(fn(self.input), self.output, f\"Should be {self.output}\")\n",
      "AssertionError: False != True : Should be True\n",
      "\n",
      "======================================================================\n",
      "FAIL: runTest (mod.testing.test_pass.<locals>.TestKnown)\n",
      "----------------------------------------------------------------------\n",
      "Traceback (most recent call last):\n",
      "  File \"/Users/franciscovispo/Desktop/IRONHACK/lab-functions/mod/testing.py\", line 202, in runTest\n",
      "    self.assertEqual(fn(self.input), self.output, f\"Should be {self.output}\")\n",
      "AssertionError: True != False : Should be False\n",
      "\n",
      "======================================================================\n",
      "FAIL: runTest (mod.testing.test_pass.<locals>.TestKnown)\n",
      "----------------------------------------------------------------------\n",
      "Traceback (most recent call last):\n",
      "  File \"/Users/franciscovispo/Desktop/IRONHACK/lab-functions/mod/testing.py\", line 202, in runTest\n",
      "    self.assertEqual(fn(self.input), self.output, f\"Should be {self.output}\")\n",
      "AssertionError: False != True : Should be True\n",
      "\n",
      "======================================================================\n",
      "FAIL: runTest (mod.testing.test_pass.<locals>.TestKnown)\n",
      "----------------------------------------------------------------------\n",
      "Traceback (most recent call last):\n",
      "  File \"/Users/franciscovispo/Desktop/IRONHACK/lab-functions/mod/testing.py\", line 202, in runTest\n",
      "    self.assertEqual(fn(self.input), self.output, f\"Should be {self.output}\")\n",
      "AssertionError: False != True : Should be True\n",
      "\n",
      "======================================================================\n",
      "FAIL: runTest (mod.testing.test_pass.<locals>.TestKnown)\n",
      "----------------------------------------------------------------------\n",
      "Traceback (most recent call last):\n",
      "  File \"/Users/franciscovispo/Desktop/IRONHACK/lab-functions/mod/testing.py\", line 202, in runTest\n",
      "    self.assertEqual(fn(self.input), self.output, f\"Should be {self.output}\")\n",
      "AssertionError: False != True : Should be True\n",
      "\n",
      "======================================================================\n",
      "FAIL: runTest (mod.testing.test_pass.<locals>.TestKnown)\n",
      "----------------------------------------------------------------------\n",
      "Traceback (most recent call last):\n",
      "  File \"/Users/franciscovispo/Desktop/IRONHACK/lab-functions/mod/testing.py\", line 202, in runTest\n",
      "    self.assertEqual(fn(self.input), self.output, f\"Should be {self.output}\")\n",
      "AssertionError: False != True : Should be True\n",
      "\n",
      "======================================================================\n",
      "FAIL: runTest (mod.testing.test_pass.<locals>.TestKnown)\n",
      "----------------------------------------------------------------------\n",
      "Traceback (most recent call last):\n",
      "  File \"/Users/franciscovispo/Desktop/IRONHACK/lab-functions/mod/testing.py\", line 202, in runTest\n",
      "    self.assertEqual(fn(self.input), self.output, f\"Should be {self.output}\")\n",
      "AssertionError: False != True : Should be True\n",
      "\n",
      "======================================================================\n",
      "FAIL: runTest (mod.testing.test_pass.<locals>.TestKnown)\n",
      "----------------------------------------------------------------------\n",
      "Traceback (most recent call last):\n",
      "  File \"/Users/franciscovispo/Desktop/IRONHACK/lab-functions/mod/testing.py\", line 202, in runTest\n",
      "    self.assertEqual(fn(self.input), self.output, f\"Should be {self.output}\")\n",
      "AssertionError: False != True : Should be True\n",
      "\n",
      "======================================================================\n",
      "FAIL: runTest (mod.testing.test_pass.<locals>.TestKnown)\n",
      "----------------------------------------------------------------------\n",
      "Traceback (most recent call last):\n",
      "  File \"/Users/franciscovispo/Desktop/IRONHACK/lab-functions/mod/testing.py\", line 202, in runTest\n",
      "    self.assertEqual(fn(self.input), self.output, f\"Should be {self.output}\")\n",
      "AssertionError: False != True : Should be True\n",
      "\n",
      "======================================================================\n",
      "FAIL: runTest (mod.testing.test_pass.<locals>.TestKnown)\n",
      "----------------------------------------------------------------------\n",
      "Traceback (most recent call last):\n",
      "  File \"/Users/franciscovispo/Desktop/IRONHACK/lab-functions/mod/testing.py\", line 202, in runTest\n",
      "    self.assertEqual(fn(self.input), self.output, f\"Should be {self.output}\")\n",
      "AssertionError: False != True : Should be True\n",
      "\n",
      "======================================================================\n",
      "FAIL: runTest (mod.testing.test_pass.<locals>.TestKnown)\n",
      "----------------------------------------------------------------------\n",
      "Traceback (most recent call last):\n",
      "  File \"/Users/franciscovispo/Desktop/IRONHACK/lab-functions/mod/testing.py\", line 202, in runTest\n",
      "    self.assertEqual(fn(self.input), self.output, f\"Should be {self.output}\")\n",
      "AssertionError: False != True : Should be True\n",
      "\n",
      "----------------------------------------------------------------------\n",
      "Ran 100 tests in 0.256s\n",
      "\n",
      "FAILED (failures=34)\n"
     ]
    }
   ],
   "source": [
    "# This will test your function \n",
    "test_pass(check_pass)"
   ]
  }
 ],
 "metadata": {
  "kernelspec": {
   "display_name": "Python 3",
   "language": "python",
   "name": "python3"
  },
  "language_info": {
   "codemirror_mode": {
    "name": "ipython",
    "version": 3
   },
   "file_extension": ".py",
   "mimetype": "text/x-python",
   "name": "python",
   "nbconvert_exporter": "python",
   "pygments_lexer": "ipython3",
   "version": "3.8.5"
  }
 },
 "nbformat": 4,
 "nbformat_minor": 4
}
