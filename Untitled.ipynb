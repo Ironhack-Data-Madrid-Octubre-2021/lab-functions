{
 "cells": [
  {
   "cell_type": "code",
   "execution_count": 3,
   "id": "65b71e13",
   "metadata": {},
   "outputs": [],
   "source": [
    "def factorial(n):\n",
    "    if n == 0:\n",
    "        return 1\n",
    "    else:\n",
    "        return n * factorial(n-1)"
   ]
  },
  {
   "cell_type": "code",
   "execution_count": 8,
   "id": "acdfa057",
   "metadata": {},
   "outputs": [
    {
     "data": {
      "text/plain": [
       "120"
      ]
     },
     "execution_count": 8,
     "metadata": {},
     "output_type": "execute_result"
    }
   ],
   "source": [
    "factorial(5)"
   ]
  },
  {
   "cell_type": "code",
   "execution_count": 17,
   "id": "0d4c9fd5",
   "metadata": {},
   "outputs": [
    {
     "data": {
      "text/plain": [
       "7.0"
      ]
     },
     "execution_count": 17,
     "metadata": {},
     "output_type": "execute_result"
    }
   ],
   "source": [
    "from statistics import stdev\n",
    "def st_dev(arr):\n",
    "    summ = 0\n",
    "    countt = 0\n",
    "    sqrs = 0\n",
    "    for i in arr:\n",
    "        summ += i\n",
    "        countt += 1\n",
    "    avgg = summ / countt\n",
    "    return avgg\n",
    "\n",
    "listx = [6, 7, 7, 4, 6, 9, 10]\n",
    "st_dev(listx)"
   ]
  },
  {
   "cell_type": "code",
   "execution_count": 16,
   "id": "70d5601a",
   "metadata": {},
   "outputs": [
    {
     "data": {
      "text/plain": [
       "7"
      ]
     },
     "execution_count": 16,
     "metadata": {},
     "output_type": "execute_result"
    }
   ],
   "source": [
    "import statistics as stats\n",
    "\n",
    "stats.mean(listx)"
   ]
  },
  {
   "cell_type": "code",
   "execution_count": 34,
   "id": "4d9691ca",
   "metadata": {},
   "outputs": [],
   "source": [
    "def st_dev(arr):\n",
    "    summ = 0\n",
    "    countt = 0\n",
    "    sqrs = 0\n",
    "    for i in arr:\n",
    "        summ += i\n",
    "        countt += 1\n",
    "    avgg = summ / countt\n",
    "    for q in arr:\n",
    "        sqrs += (q-avgg)**2\n",
    "    variance = sqrs/(countt)\n",
    "    return variance"
   ]
  },
  {
   "cell_type": "code",
   "execution_count": 35,
   "id": "4852f6d7",
   "metadata": {},
   "outputs": [
    {
     "data": {
      "text/plain": [
       "3.4285714285714284"
      ]
     },
     "execution_count": 35,
     "metadata": {},
     "output_type": "execute_result"
    }
   ],
   "source": [
    "st_dev(listx)"
   ]
  },
  {
   "cell_type": "code",
   "execution_count": 25,
   "id": "30274de4",
   "metadata": {},
   "outputs": [
    {
     "data": {
      "text/plain": [
       "2.0"
      ]
     },
     "execution_count": 25,
     "metadata": {},
     "output_type": "execute_result"
    }
   ],
   "source": [
    "stdev(listx)"
   ]
  },
  {
   "cell_type": "code",
   "execution_count": 31,
   "id": "42970536",
   "metadata": {},
   "outputs": [
    {
     "data": {
      "text/plain": [
       "3.4285714285714284"
      ]
     },
     "execution_count": 31,
     "metadata": {},
     "output_type": "execute_result"
    }
   ],
   "source": [
    "import numpy as np\n",
    "\n",
    "np.var(listx)"
   ]
  },
  {
   "cell_type": "code",
   "execution_count": 48,
   "id": "a7a89bd0",
   "metadata": {},
   "outputs": [],
   "source": [
    "import math as math\n",
    "def st_dev(arr):\n",
    "    summ = 0\n",
    "    countt = 0\n",
    "    sqrs = 0\n",
    "    for i in arr:\n",
    "        summ += i\n",
    "        countt += 1\n",
    "    avgg = summ / countt\n",
    "    for q in arr:\n",
    "        sqrs += (q-avgg)**2\n",
    "    variance = sqrs/(countt-1)\n",
    "    desv = variance**(1/2)\n",
    "    return desv"
   ]
  },
  {
   "cell_type": "code",
   "execution_count": 49,
   "id": "030fb1a9",
   "metadata": {},
   "outputs": [
    {
     "data": {
      "text/plain": [
       "2.0"
      ]
     },
     "execution_count": 49,
     "metadata": {},
     "output_type": "execute_result"
    }
   ],
   "source": [
    "st_dev(listx)"
   ]
  },
  {
   "cell_type": "code",
   "execution_count": 63,
   "id": "63a67e20",
   "metadata": {},
   "outputs": [],
   "source": [
    "frase = 'el, perro, se, comio, al, gato'\n",
    "remove = \"\"\n",
    "\n",
    "for i in frase:\n",
    "    if i.isalpha():\n",
    "        word += w\n",
    "    elif not \n"
   ]
  },
  {
   "cell_type": "code",
   "execution_count": 10,
   "id": "a195c16f",
   "metadata": {
    "scrolled": true
   },
   "outputs": [],
   "source": [
    "sentence = 'this,is,a,sentence'"
   ]
  },
  {
   "cell_type": "code",
   "execution_count": 13,
   "id": "6b9e3c0b",
   "metadata": {},
   "outputs": [
    {
     "data": {
      "text/plain": [
       "'a,is,sentence,this'"
      ]
     },
     "execution_count": 13,
     "metadata": {},
     "output_type": "execute_result"
    }
   ],
   "source": [
    "def sort_alpha(string):\n",
    "    word = \"\"\n",
    "    lista = []\n",
    "    word2 = \"\"\n",
    "    for i in string:\n",
    "        if i != \",\":\n",
    "            word += i\n",
    "        else:\n",
    "            lista.append(word)\n",
    "            word = \"\"\n",
    "    lista.append(word)\n",
    "    lista = sorted(lista)\n",
    "    for x in lista:\n",
    "        word2 += x + \",\"\n",
    "    return word2[:-1]\n",
    "\n",
    "sort_alpha(sentence)"
   ]
  },
  {
   "cell_type": "code",
   "execution_count": null,
   "id": "905583ed",
   "metadata": {},
   "outputs": [],
   "source": []
  },
  {
   "cell_type": "code",
   "execution_count": 21,
   "id": "a7d3f8da",
   "metadata": {},
   "outputs": [
    {
     "data": {
      "text/plain": [
       "{1: 2, 2: 3, 3: 4, 5: 6, 6: 7, 9: 10}"
      ]
     },
     "execution_count": 21,
     "metadata": {},
     "output_type": "execute_result"
    }
   ],
   "source": [
    "frecuencia = [1, 2, 3, 3, 3, 5, 6, 9, 9, 9, 9]\n",
    "\n",
    "def moda (frecuenciador):\n",
    "    \n",
    "    key_freq = {}\n",
    "    \n",
    "    for i in frecuenciador:\n",
    "        key_freq[i] = i+1\n",
    "    return key_freq\n",
    "            \n",
    "moda(frecuencia)"
   ]
  },
  {
   "cell_type": "code",
   "execution_count": null,
   "id": "10089042",
   "metadata": {},
   "outputs": [],
   "source": []
  }
 ],
 "metadata": {
  "kernelspec": {
   "display_name": "Python 3 (ipykernel)",
   "language": "python",
   "name": "python3"
  },
  "language_info": {
   "codemirror_mode": {
    "name": "ipython",
    "version": 3
   },
   "file_extension": ".py",
   "mimetype": "text/x-python",
   "name": "python",
   "nbconvert_exporter": "python",
   "pygments_lexer": "ipython3",
   "version": "3.9.7"
  }
 },
 "nbformat": 4,
 "nbformat_minor": 5
}
