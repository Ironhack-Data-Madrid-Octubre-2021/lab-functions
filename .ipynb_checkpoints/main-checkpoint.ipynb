{
 "cells": [
  {
   "cell_type": "markdown",
   "metadata": {},
   "source": [
    "# Functions"
   ]
  },
  {
   "cell_type": "markdown",
   "metadata": {},
   "source": [
    "On this lab we will put to practice some of the concepts we have learned on this past few days.\n",
    "\n",
    "`NOTE: On this lab you should try to write all the functions yourself using only the most basic of python syntax and without functions such as len, count, sum, max, min, in, etc. Give it a try. 🧑🏻‍💻👩🏻‍💻`\n",
    "\n",
    "The cell after each exercise contains a few tests to check if your function works as expected."
   ]
  },
  {
   "cell_type": "code",
   "execution_count": 2,
   "metadata": {},
   "outputs": [],
   "source": [
    "from mod.testing import *\n",
    "import unittest"
   ]
  },
  {
   "cell_type": "markdown",
   "metadata": {},
   "source": [
    "## 1. Write a function that returns the greater of two numbers"
   ]
  },
  {
   "cell_type": "code",
   "execution_count": 22,
   "metadata": {},
   "outputs": [],
   "source": [
    "def greater(a,b):\n",
    "    if a > b:\n",
    "        return f\"{a} es mayor\"\n",
    "    \n",
    "    else:\n",
    "        return f\"{b} es mayor\"\n"
   ]
  },
  {
   "cell_type": "code",
   "execution_count": 201,
   "metadata": {},
   "outputs": [
    {
     "data": {
      "text/plain": [
       "'5 es mayor'"
      ]
     },
     "execution_count": 201,
     "metadata": {},
     "output_type": "execute_result"
    }
   ],
   "source": [
    "greater(3,5)"
   ]
  },
  {
   "cell_type": "markdown",
   "metadata": {},
   "source": [
    "## 2. Now write a function that returns the largest element on a list"
   ]
  },
  {
   "cell_type": "code",
   "execution_count": 17,
   "metadata": {},
   "outputs": [],
   "source": [
    "def greatest(arr):\n",
    "    maximo = None\n",
    "    for num in arr:\n",
    "        if (maximo is None or num > maximo):\n",
    "            maximo = num\n",
    "\n",
    "    return('Maximum value:', maximo)"
   ]
  },
  {
   "cell_type": "code",
   "execution_count": 18,
   "metadata": {},
   "outputs": [
    {
     "data": {
      "text/plain": [
       "('Maximum value:', 104)"
      ]
     },
     "execution_count": 18,
     "metadata": {},
     "output_type": "execute_result"
    }
   ],
   "source": [
    "numbers = [55, 4, 92, 1, 104, 64, 73, 99, 20]\n",
    "greatest(numbers)"
   ]
  },
  {
   "cell_type": "markdown",
   "metadata": {},
   "source": [
    "## 3. Write a function that sums all the elements on a list"
   ]
  },
  {
   "cell_type": "code",
   "execution_count": 45,
   "metadata": {},
   "outputs": [],
   "source": [
    "def sum_all(lista):\n",
    "    total = 0\n",
    "    for n in lista:\n",
    "        total += n\n",
    "    return total"
   ]
  },
  {
   "cell_type": "code",
   "execution_count": 46,
   "metadata": {},
   "outputs": [
    {
     "data": {
      "text/plain": [
       "17"
      ]
     },
     "execution_count": 46,
     "metadata": {},
     "output_type": "execute_result"
    }
   ],
   "source": [
    "# This will test your function \n",
    "listadeprueba = (1,5,2,4,5)\n",
    "sum_all(listadeprueba)"
   ]
  },
  {
   "cell_type": "code",
   "execution_count": 40,
   "metadata": {},
   "outputs": [],
   "source": [
    "#hago una prueba para entender las funciones\n",
    "def prueba(n):\n",
    "    n += 1\n",
    "    return n"
   ]
  },
  {
   "cell_type": "code",
   "execution_count": 41,
   "metadata": {},
   "outputs": [
    {
     "data": {
      "text/plain": [
       "6"
      ]
     },
     "execution_count": 41,
     "metadata": {},
     "output_type": "execute_result"
    }
   ],
   "source": [
    "#pruebo mi prueba\n",
    "prueba(5)"
   ]
  },
  {
   "cell_type": "markdown",
   "metadata": {},
   "source": [
    "## 4. Write another function that multiplies all the elements on a list"
   ]
  },
  {
   "cell_type": "code",
   "execution_count": 51,
   "metadata": {},
   "outputs": [],
   "source": [
    "def mult_all(listamultiplicación):\n",
    "    totalmult = 1\n",
    "    for n in listamultiplicación:\n",
    "        total *= n\n",
    "    return total"
   ]
  },
  {
   "cell_type": "code",
   "execution_count": 50,
   "metadata": {},
   "outputs": [
    {
     "data": {
      "text/plain": [
       "16"
      ]
     },
     "execution_count": 50,
     "metadata": {},
     "output_type": "execute_result"
    }
   ],
   "source": [
    "# This will test your function \n",
    "listicapamultiplicar = [2,2,4]\n",
    "mult_all(listicapamultiplicar)"
   ]
  },
  {
   "cell_type": "markdown",
   "metadata": {},
   "source": [
    "## 5. Now combine those two ideas and write a function that receives a list and either \"+\" or \"*\" and outputs acordingly"
   ]
  },
  {
   "cell_type": "code",
   "execution_count": 52,
   "metadata": {},
   "outputs": [],
   "source": [
    "def oper_all(ndelista, operacion):\n",
    "    if operacion == \"sumar\":\n",
    "        total = 0\n",
    "        for n in ndelista:\n",
    "            total += n\n",
    "        return total\n",
    "    elif operacion == \"multiplicar\":\n",
    "        totalmult = 1\n",
    "        for n in ndelista:\n",
    "            totalmult *= n\n",
    "        return totalmult\n"
   ]
  },
  {
   "cell_type": "code",
   "execution_count": 55,
   "metadata": {},
   "outputs": [
    {
     "data": {
      "text/plain": [
       "8"
      ]
     },
     "execution_count": 55,
     "metadata": {},
     "output_type": "execute_result"
    }
   ],
   "source": [
    "# This will test your function \n",
    "oper_all([1,2,4], \"multiplicar\")"
   ]
  },
  {
   "cell_type": "code",
   "execution_count": 56,
   "metadata": {},
   "outputs": [
    {
     "data": {
      "text/plain": [
       "7"
      ]
     },
     "execution_count": 56,
     "metadata": {},
     "output_type": "execute_result"
    }
   ],
   "source": [
    "oper_all([1,2,4], \"sumar\")"
   ]
  },
  {
   "cell_type": "markdown",
   "metadata": {},
   "source": [
    "## 6. Write a function that returns the factorial of a number."
   ]
  },
  {
   "cell_type": "code",
   "execution_count": 68,
   "metadata": {},
   "outputs": [],
   "source": [
    "def factorial(n):\n",
    "    if n == 0:\n",
    "        return 1\n",
    "    else:\n",
    "        return n * factorial(n-1)\n"
   ]
  },
  {
   "cell_type": "code",
   "execution_count": 69,
   "metadata": {},
   "outputs": [
    {
     "data": {
      "text/plain": [
       "720"
      ]
     },
     "execution_count": 69,
     "metadata": {},
     "output_type": "execute_result"
    }
   ],
   "source": [
    "# This will test your function \n",
    "factorial(6)"
   ]
  },
  {
   "cell_type": "markdown",
   "metadata": {},
   "source": [
    "## 7. Write a function that takes a list and returns a list of the unique values.\n",
    "\n",
    "`NOTE: You cannot use set. 🤔`"
   ]
  },
  {
   "cell_type": "code",
   "execution_count": 126,
   "metadata": {},
   "outputs": [],
   "source": [
    "def unique(listilla):\n",
    "    lista = []\n",
    "    for i in listilla:\n",
    "        if i not in lista:\n",
    "            lista.append(i)\n",
    "    return lista"
   ]
  },
  {
   "cell_type": "code",
   "execution_count": 130,
   "metadata": {},
   "outputs": [
    {
     "data": {
      "text/plain": [
       "[1, 2, 3, 4]"
      ]
     },
     "execution_count": 130,
     "metadata": {},
     "output_type": "execute_result"
    }
   ],
   "source": [
    "# This will test your function \n",
    "lis = (1,2,3,4)\n",
    "unique(lis)"
   ]
  },
  {
   "cell_type": "markdown",
   "metadata": {},
   "source": [
    "## 8. Write a function that returns the mode of a list, i.e.: the element that appears the most times.\n",
    "`NOTE: You should not use count... 🧐`"
   ]
  },
  {
   "cell_type": "code",
   "execution_count": 134,
   "metadata": {},
   "outputs": [],
   "source": [
    "def mode_counter(arr):\n",
    "    d = {}\n",
    "    for i in arr:\n",
    "        if i not in d:\n",
    "            d[i] = 1\n",
    "        else:\n",
    "            d[i] += 1\n",
    "            \n",
    "        count = 0\n",
    "        for key, value in d.items():\n",
    "            if value>count:\n",
    "                count = value\n",
    "                mode = key\n",
    "    return mode\n",
    "    \n",
    "            "
   ]
  },
  {
   "cell_type": "code",
   "execution_count": 135,
   "metadata": {},
   "outputs": [
    {
     "name": "stderr",
     "output_type": "stream",
     "text": [
      "....................................................................................................\n",
      "----------------------------------------------------------------------\n",
      "Ran 100 tests in 0.197s\n",
      "\n",
      "OK\n"
     ]
    }
   ],
   "source": [
    "# This will test your function \n",
    "test_mode(mode_counter)"
   ]
  },
  {
   "cell_type": "markdown",
   "metadata": {},
   "source": [
    "## 9. Write a function that calculates the standard deviation of a list.\n",
    "`NOTE: Do not use any libraries or already built functions. 😉`"
   ]
  },
  {
   "cell_type": "code",
   "execution_count": 170,
   "metadata": {},
   "outputs": [],
   "source": [
    "from statistics import stdev\n",
    "def st_dev(arr):\n",
    "    n = 0\n",
    "    for i in arr:\n",
    "        n += 1\n",
    "\n",
    "    sumatodos = 0\n",
    "    for i in arr:\n",
    "        sumatodos += i\n",
    "\n",
    "    media = sumatodos/n\n",
    "\n",
    "    #suma cada numero menos su media = p\n",
    "    p = 0\n",
    "    for i in arr:\n",
    "        p += (i-media) **2\n",
    "    print(p)\n",
    "\n",
    "    denominador = n-1\n",
    "\n",
    "    desviación = (p/denominador)**0.5\n",
    "\n",
    "    return desviación"
   ]
  },
  {
   "cell_type": "code",
   "execution_count": 171,
   "metadata": {},
   "outputs": [
    {
     "name": "stderr",
     "output_type": "stream",
     "text": [
      "...................................................................................................."
     ]
    },
    {
     "name": "stdout",
     "output_type": "stream",
     "text": [
      "24188716.987341776\n",
      "5154233.428571428\n",
      "22906344.378378384\n",
      "33004004.41379312\n",
      "16072144.204081636\n",
      "34032601.72631579\n",
      "37055066.74747475\n",
      "11188032.30555556\n",
      "11625722.171428574\n",
      "30683725.55555555\n",
      "22294164.179104477\n",
      "19799644.583333332\n",
      "15942613.674418604\n",
      "34396588.89655173\n",
      "9684888.387096774\n",
      "23408560.28985506\n",
      "27791322.10526316\n",
      "17305918.583333332\n",
      "16794458.98076923\n",
      "30256197.640449442\n",
      "19927114.27586208\n",
      "15407453.913043477\n",
      "33105885.590909094\n",
      "26747336.058139544\n",
      "24567350.585714284\n",
      "33814075.29670329\n",
      "25988799.830985922\n",
      "23728005.671232883\n",
      "9665649.5\n",
      "23135392.98969073\n",
      "26153500.621212125\n",
      "19945474.215384617\n",
      "18154668.774193548\n",
      "7267207.9375\n",
      "26708256.75\n",
      "27965712.3372093\n",
      "22404775.147540987\n",
      "19420940.125\n",
      "13754798.977272725\n",
      "4827742.9523809515\n",
      "27045088.0\n",
      "24364266.666666657\n",
      "8165543.142857142\n",
      "29165771.478260867\n",
      "8598642.666666668\n",
      "23912241.75\n",
      "19426732.113207553\n",
      "28057759.05747127\n",
      "21193263.22058823\n",
      "18512809.979166668\n",
      "25468754.675324675\n",
      "21713202.17910448\n",
      "29098044.162162166\n",
      "34922608.11956522\n",
      "3138551.7333333325\n",
      "28732444.29850747\n",
      "28174600.98901099\n",
      "28255774.684210524\n",
      "5708978.470588234\n",
      "8714534.0\n",
      "28506272.799999993\n",
      "22590095.99999999\n",
      "28396980.701298714\n",
      "34430008.04705882\n",
      "27398562.67105262\n",
      "28610330.863636363\n",
      "23125901.927272722\n",
      "26300300.631578956\n",
      "30649025.35353534\n",
      "28502942.93670887\n",
      "37182142.7755102\n",
      "28754187.99999999\n",
      "15680653.12195122\n",
      "11624655.58974359\n",
      "4009171.6842105263\n",
      "16134274.42\n",
      "19226935.650793653\n",
      "26875751.14285715\n",
      "14528636.697674422\n",
      "23521551.917808224\n",
      "17401631.659574468\n",
      "34722099.936842114\n",
      "16778918.315789472\n",
      "28554168.05102042\n",
      "16613812.799999997\n",
      "26499442.720000006\n",
      "19097297.772727266\n",
      "30736078.588235293\n",
      "27298221.42857143\n",
      "32596370.59\n",
      "22642419.030303035\n",
      "22706515.22058823\n",
      "14762230.869565219\n",
      "17376914.637681164\n",
      "3090858.7272727275\n",
      "29028445.443181816\n",
      "28317045.372340407\n",
      "4781974.117647058\n",
      "29949542.869565222\n",
      "12942162.24390244\n"
     ]
    },
    {
     "name": "stderr",
     "output_type": "stream",
     "text": [
      "\n",
      "----------------------------------------------------------------------\n",
      "Ran 100 tests in 0.092s\n",
      "\n",
      "OK\n"
     ]
    }
   ],
   "source": [
    "# This will test your function \n",
    "test_stdev(st_dev)"
   ]
  },
  {
   "cell_type": "markdown",
   "metadata": {},
   "source": [
    "## 10. Write a function to check if a string is a pangram, i.e.: if it contains all the letters of the alphabet at least once. Mind that the strings may contain characters that are not letters."
   ]
  },
  {
   "cell_type": "code",
   "execution_count": 198,
   "metadata": {},
   "outputs": [],
   "source": [
    "def pangram(string):\n",
    "    abc = \"abcdefghijklmnopqrstuvwxyz\"\n",
    "    for a in abc:\n",
    "        if a not in string.lower():\n",
    "            return False\n",
    "    return True\n",
    "    "
   ]
  },
  {
   "cell_type": "code",
   "execution_count": 199,
   "metadata": {},
   "outputs": [
    {
     "name": "stderr",
     "output_type": "stream",
     "text": [
      "..............................\n",
      "----------------------------------------------------------------------\n",
      "Ran 30 tests in 0.031s\n",
      "\n",
      "OK\n"
     ]
    }
   ],
   "source": [
    "# This will test your function \n",
    "test_pangram(pangram)"
   ]
  },
  {
   "cell_type": "markdown",
   "metadata": {},
   "source": [
    "## 11. Write a function that receives a string of comma separated words and returns a string of comma separated words sorted alphabetically.\n",
    "\n",
    "`NOTE: You may use sorted but not split and definitely no join! 🤪`"
   ]
  },
  {
   "cell_type": "code",
   "execution_count": 269,
   "metadata": {},
   "outputs": [],
   "source": [
    "def sort_alpha(string):\n",
    "    listita = []\n",
    "    word = \"\"\n",
    "\n",
    "    for i in string:\n",
    "        if i != \",\":\n",
    "            word += i \n",
    "        else:\n",
    "            listita.append(word)\n",
    "            word = \"\"\n",
    "    listita.append(word)\n",
    "    \n",
    "    listita= sorted(listita)\n",
    "    \n",
    "    laultima=\"\"\n",
    "    for i in listita:\n",
    "        laultima +=i\n",
    "        laultima +=\",\"\n",
    "    laultima = laultima[:-1]\n",
    "    \n",
    "    \n",
    "    return laultima\n",
    "    "
   ]
  },
  {
   "cell_type": "code",
   "execution_count": 270,
   "metadata": {},
   "outputs": [
    {
     "data": {
      "text/plain": [
       "'a,gola'"
      ]
     },
     "execution_count": 270,
     "metadata": {},
     "output_type": "execute_result"
    }
   ],
   "source": [
    "oye = \"gola,a\"\n",
    "sort_alpha(oye)\n"
   ]
  },
  {
   "cell_type": "code",
   "execution_count": 271,
   "metadata": {},
   "outputs": [
    {
     "name": "stderr",
     "output_type": "stream",
     "text": [
      "....................................................................................................\n",
      "----------------------------------------------------------------------\n",
      "Ran 100 tests in 0.167s\n",
      "\n",
      "OK\n"
     ]
    }
   ],
   "source": [
    "# This will test your function \n",
    "test_alpha(sort_alpha)"
   ]
  },
  {
   "cell_type": "markdown",
   "metadata": {},
   "source": [
    "## 12. Write a function to check if a given password is strong (at least 8 characters, at least one lower case, at least one upper case, at least one number and at least one special character). It should output True if strong and False if not.\n",
    "`Valid special characters: # @ ! $ % & ( ) ^ * [ ] { }`"
   ]
  },
  {
   "cell_type": "code",
   "execution_count": 272,
   "metadata": {},
   "outputs": [
    {
     "ename": "IndentationError",
     "evalue": "expected an indented block (3285226184.py, line 3)",
     "output_type": "error",
     "traceback": [
      "\u001b[0;36m  File \u001b[0;32m\"/tmp/ipykernel_182/3285226184.py\"\u001b[0;36m, line \u001b[0;32m3\u001b[0m\n\u001b[0;31m    up = False\u001b[0m\n\u001b[0m    ^\u001b[0m\n\u001b[0;31mIndentationError\u001b[0m\u001b[0;31m:\u001b[0m expected an indented block\n"
     ]
    }
   ],
   "source": [
    "\n",
    "up = False\n",
    "lo = False\n",
    "raro = False\n",
    "1 = False\n",
    "\n",
    "Valid special characters= [\"#\",\"@\",\"!\",\"$\",\"%\",\"&\",\"(\",\")\",\"^\", \"*\", \"[\", \"]\", \"{\", \"}\"]\n",
    "\n",
    "def check_pass(string):\n",
    "    if i in string:\n",
    "        i = upp\n",
    "\n"
   ]
  },
  {
   "cell_type": "code",
   "execution_count": null,
   "metadata": {},
   "outputs": [],
   "source": [
    "# This will test your function \n",
    "test_pass(check_pass)"
   ]
  }
 ],
 "metadata": {
  "kernelspec": {
   "display_name": "Python 3 (ipykernel)",
   "language": "python",
   "name": "python3"
  },
  "language_info": {
   "codemirror_mode": {
    "name": "ipython",
    "version": 3
   },
   "file_extension": ".py",
   "mimetype": "text/x-python",
   "name": "python",
   "nbconvert_exporter": "python",
   "pygments_lexer": "ipython3",
   "version": "3.8.10"
  }
 },
 "nbformat": 4,
 "nbformat_minor": 4
}
